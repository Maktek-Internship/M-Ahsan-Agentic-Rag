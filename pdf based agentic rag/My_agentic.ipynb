{
  "cells": [
    {
      "cell_type": "code",
      "execution_count": 1,
      "metadata": {
        "colab": {
          "base_uri": "https://localhost:8080/"
        },
        "id": "JCmbAhPeFrbr",
        "outputId": "9beefe33-5329-4f77-bdc1-953f0a401786"
      },
      "outputs": [
        {
          "name": "stdout",
          "output_type": "stream",
          "text": [
            "\u001b[2K     \u001b[90m━━━━━━━━━━━━━━━━━━━━━━━━━━━━━━━━━━━━━━━━\u001b[0m \u001b[32m40.9/40.9 kB\u001b[0m \u001b[31m1.7 MB/s\u001b[0m eta \u001b[36m0:00:00\u001b[0m\n",
            "\u001b[2K     \u001b[90m━━━━━━━━━━━━━━━━━━━━━━━━━━━━━━━━━━━━━━━━\u001b[0m \u001b[32m67.3/67.3 kB\u001b[0m \u001b[31m4.7 MB/s\u001b[0m eta \u001b[36m0:00:00\u001b[0m\n",
            "\u001b[?25h  Installing build dependencies ... \u001b[?25l\u001b[?25hdone\n",
            "  Getting requirements to build wheel ... \u001b[?25l\u001b[?25hdone\n",
            "  Preparing metadata (pyproject.toml) ... \u001b[?25l\u001b[?25hdone\n",
            "\u001b[2K     \u001b[90m━━━━━━━━━━━━━━━━━━━━━━━━━━━━━━━━━━━━━━━━\u001b[0m \u001b[32m50.4/50.4 kB\u001b[0m \u001b[31m2.3 MB/s\u001b[0m eta \u001b[36m0:00:00\u001b[0m\n",
            "\u001b[?25h\u001b[33mWARNING: embedchain 0.1.120 does not provide the extra 'github'\u001b[0m\u001b[33m\n",
            "\u001b[0m\u001b[33mWARNING: embedchain 0.1.120 does not provide the extra 'youtube'\u001b[0m\u001b[33m\n",
            "\u001b[0m\u001b[33mWARNING: embedchain 0.1.119 does not provide the extra 'github'\u001b[0m\u001b[33m\n",
            "\u001b[0m\u001b[33mWARNING: embedchain 0.1.119 does not provide the extra 'youtube'\u001b[0m\u001b[33m\n",
            "\u001b[0m\u001b[33mWARNING: embedchain 0.1.118 does not provide the extra 'github'\u001b[0m\u001b[33m\n",
            "\u001b[0m\u001b[33mWARNING: embedchain 0.1.118 does not provide the extra 'youtube'\u001b[0m\u001b[33m\n",
            "\u001b[0m\u001b[33mWARNING: embedchain 0.1.117 does not provide the extra 'github'\u001b[0m\u001b[33m\n",
            "\u001b[0m\u001b[33mWARNING: embedchain 0.1.117 does not provide the extra 'youtube'\u001b[0m\u001b[33m\n",
            "\u001b[2K     \u001b[90m━━━━━━━━━━━━━━━━━━━━━━━━━━━━━━━━━━━━━━━━\u001b[0m \u001b[32m160.7/160.7 kB\u001b[0m \u001b[31m8.2 MB/s\u001b[0m eta \u001b[36m0:00:00\u001b[0m\n",
            "\u001b[2K   \u001b[90m━━━━━━━━━━━━━━━━━━━━━━━━━━━━━━━━━━━━━━━━\u001b[0m \u001b[32m61.6/61.6 kB\u001b[0m \u001b[31m3.7 MB/s\u001b[0m eta \u001b[36m0:00:00\u001b[0m\n",
            "\u001b[2K   \u001b[90m━━━━━━━━━━━━━━━━━━━━━━━━━━━━━━━━━━━━━━━━\u001b[0m \u001b[32m47.7/47.7 kB\u001b[0m \u001b[31m2.7 MB/s\u001b[0m eta \u001b[36m0:00:00\u001b[0m\n",
            "\u001b[2K   \u001b[90m━━━━━━━━━━━━━━━━━━━━━━━━━━━━━━━━━━━━━━━━\u001b[0m \u001b[32m1.8/1.8 MB\u001b[0m \u001b[31m48.9 MB/s\u001b[0m eta \u001b[36m0:00:00\u001b[0m\n",
            "\u001b[2K   \u001b[90m━━━━━━━━━━━━━━━━━━━━━━━━━━━━━━━━━━━━━━━━\u001b[0m \u001b[32m227.1/227.1 kB\u001b[0m \u001b[31m14.9 MB/s\u001b[0m eta \u001b[36m0:00:00\u001b[0m\n",
            "\u001b[2K   \u001b[90m━━━━━━━━━━━━━━━━━━━━━━━━━━━━━━━━━━━━━━━━\u001b[0m \u001b[32m85.5/85.5 MB\u001b[0m \u001b[31m8.4 MB/s\u001b[0m eta \u001b[36m0:00:00\u001b[0m\n",
            "\u001b[2K   \u001b[90m━━━━━━━━━━━━━━━━━━━━━━━━━━━━━━━━━━━━━━━━\u001b[0m \u001b[32m525.5/525.5 kB\u001b[0m \u001b[31m24.3 MB/s\u001b[0m eta \u001b[36m0:00:00\u001b[0m\n",
            "\u001b[2K   \u001b[90m━━━━━━━━━━━━━━━━━━━━━━━━━━━━━━━━━━━━━━━━\u001b[0m \u001b[32m2.4/2.4 MB\u001b[0m \u001b[31m62.6 MB/s\u001b[0m eta \u001b[36m0:00:00\u001b[0m\n",
            "\u001b[2K   \u001b[90m━━━━━━━━━━━━━━━━━━━━━━━━━━━━━━━━━━━━━━━━\u001b[0m \u001b[32m202.6/202.6 kB\u001b[0m \u001b[31m13.2 MB/s\u001b[0m eta \u001b[36m0:00:00\u001b[0m\n",
            "\u001b[2K   \u001b[90m━━━━━━━━━━━━━━━━━━━━━━━━━━━━━━━━━━━━━━━━\u001b[0m \u001b[32m103.5/103.5 kB\u001b[0m \u001b[31m6.3 MB/s\u001b[0m eta \u001b[36m0:00:00\u001b[0m\n",
            "\u001b[2K   \u001b[90m━━━━━━━━━━━━━━━━━━━━━━━━━━━━━━━━━━━━━━━━\u001b[0m \u001b[32m115.1/115.1 kB\u001b[0m \u001b[31m7.3 MB/s\u001b[0m eta \u001b[36m0:00:00\u001b[0m\n",
            "\u001b[2K   \u001b[90m━━━━━━━━━━━━━━━━━━━━━━━━━━━━━━━━━━━━━━━━\u001b[0m \u001b[32m21.6/21.6 MB\u001b[0m \u001b[31m67.3 MB/s\u001b[0m eta \u001b[36m0:00:00\u001b[0m\n",
            "\u001b[2K   \u001b[90m━━━━━━━━━━━━━━━━━━━━━━━━━━━━━━━━━━━━━━━━\u001b[0m \u001b[32m810.5/810.5 kB\u001b[0m \u001b[31m37.8 MB/s\u001b[0m eta \u001b[36m0:00:00\u001b[0m\n",
            "\u001b[2K   \u001b[90m━━━━━━━━━━━━━━━━━━━━━━━━━━━━━━━━━━━━━━━━\u001b[0m \u001b[32m302.9/302.9 kB\u001b[0m \u001b[31m17.4 MB/s\u001b[0m eta \u001b[36m0:00:00\u001b[0m\n",
            "\u001b[2K   \u001b[90m━━━━━━━━━━━━━━━━━━━━━━━━━━━━━━━━━━━━━━━━\u001b[0m \u001b[32m140.2/140.2 kB\u001b[0m \u001b[31m9.3 MB/s\u001b[0m eta \u001b[36m0:00:00\u001b[0m\n",
            "\u001b[2K   \u001b[90m━━━━━━━━━━━━━━━━━━━━━━━━━━━━━━━━━━━━━━━━\u001b[0m \u001b[32m360.4/360.4 kB\u001b[0m \u001b[31m19.0 MB/s\u001b[0m eta \u001b[36m0:00:00\u001b[0m\n",
            "\u001b[2K   \u001b[90m━━━━━━━━━━━━━━━━━━━━━━━━━━━━━━━━━━━━━━━━\u001b[0m \u001b[32m61.5/61.5 kB\u001b[0m \u001b[31m4.0 MB/s\u001b[0m eta \u001b[36m0:00:00\u001b[0m\n",
            "\u001b[2K   \u001b[90m━━━━━━━━━━━━━━━━━━━━━━━━━━━━━━━━━━━━━━━━\u001b[0m \u001b[32m52.5/52.5 kB\u001b[0m \u001b[31m3.1 MB/s\u001b[0m eta \u001b[36m0:00:00\u001b[0m\n",
            "\u001b[2K   \u001b[90m━━━━━━━━━━━━━━━━━━━━━━━━━━━━━━━━━━━━━━━━\u001b[0m \u001b[32m109.5/109.5 kB\u001b[0m \u001b[31m7.5 MB/s\u001b[0m eta \u001b[36m0:00:00\u001b[0m\n",
            "\u001b[2K   \u001b[90m━━━━━━━━━━━━━━━━━━━━━━━━━━━━━━━━━━━━━━━━\u001b[0m \u001b[32m138.0/138.0 kB\u001b[0m \u001b[31m9.0 MB/s\u001b[0m eta \u001b[36m0:00:00\u001b[0m\n",
            "\u001b[2K   \u001b[90m━━━━━━━━━━━━━━━━━━━━━━━━━━━━━━━━━━━━━━━━\u001b[0m \u001b[32m341.8/341.8 kB\u001b[0m \u001b[31m18.8 MB/s\u001b[0m eta \u001b[36m0:00:00\u001b[0m\n",
            "\u001b[2K   \u001b[90m━━━━━━━━━━━━━━━━━━━━━━━━━━━━━━━━━━━━━━━━\u001b[0m \u001b[32m57.6/57.6 kB\u001b[0m \u001b[31m3.4 MB/s\u001b[0m eta \u001b[36m0:00:00\u001b[0m\n",
            "\u001b[2K   \u001b[90m━━━━━━━━━━━━━━━━━━━━━━━━━━━━━━━━━━━━━━━━\u001b[0m \u001b[32m774.0/774.0 kB\u001b[0m \u001b[31m35.7 MB/s\u001b[0m eta \u001b[36m0:00:00\u001b[0m\n",
            "\u001b[2K   \u001b[90m━━━━━━━━━━━━━━━━━━━━━━━━━━━━━━━━━━━━━━━━\u001b[0m \u001b[32m9.4/9.4 MB\u001b[0m \u001b[31m88.1 MB/s\u001b[0m eta \u001b[36m0:00:00\u001b[0m\n",
            "\u001b[2K   \u001b[90m━━━━━━━━━━━━━━━━━━━━━━━━━━━━━━━━━━━━━━━━\u001b[0m \u001b[32m233.0/233.0 kB\u001b[0m \u001b[31m352.4 kB/s\u001b[0m eta \u001b[36m0:00:00\u001b[0m\n",
            "\u001b[2K   \u001b[90m━━━━━━━━━━━━━━━━━━━━━━━━━━━━━━━━━━━━━━━━\u001b[0m \u001b[32m273.8/273.8 kB\u001b[0m \u001b[31m13.3 MB/s\u001b[0m eta \u001b[36m0:00:00\u001b[0m\n",
            "\u001b[2K   \u001b[90m━━━━━━━━━━━━━━━━━━━━━━━━━━━━━━━━━━━━━━━━\u001b[0m \u001b[32m171.0/171.0 kB\u001b[0m \u001b[31m8.1 MB/s\u001b[0m eta \u001b[36m0:00:00\u001b[0m\n",
            "\u001b[2K   \u001b[90m━━━━━━━━━━━━━━━━━━━━━━━━━━━━━━━━━━━━━━━━\u001b[0m \u001b[32m67.7/67.7 kB\u001b[0m \u001b[31m3.2 MB/s\u001b[0m eta \u001b[36m0:00:00\u001b[0m\n",
            "\u001b[2K   \u001b[90m━━━━━━━━━━━━━━━━━━━━━━━━━━━━━━━━━━━━━━━━\u001b[0m \u001b[32m4.5/4.5 MB\u001b[0m \u001b[31m20.7 MB/s\u001b[0m eta \u001b[36m0:00:00\u001b[0m\n",
            "\u001b[2K   \u001b[90m━━━━━━━━━━━━━━━━━━━━━━━━━━━━━━━━━━━━━━━━\u001b[0m \u001b[32m93.1/93.1 kB\u001b[0m \u001b[31m4.5 MB/s\u001b[0m eta \u001b[36m0:00:00\u001b[0m\n",
            "\u001b[2K   \u001b[90m━━━━━━━━━━━━━━━━━━━━━━━━━━━━━━━━━━━━━━━━\u001b[0m \u001b[32m207.3/207.3 kB\u001b[0m \u001b[31m6.8 MB/s\u001b[0m eta \u001b[36m0:00:00\u001b[0m\n",
            "\u001b[2K   \u001b[90m━━━━━━━━━━━━━━━━━━━━━━━━━━━━━━━━━━━━━━━━\u001b[0m \u001b[32m131.6/131.6 kB\u001b[0m \u001b[31m3.6 MB/s\u001b[0m eta \u001b[36m0:00:00\u001b[0m\n",
            "\u001b[2K   \u001b[90m━━━━━━━━━━━━━━━━━━━━━━━━━━━━━━━━━━━━━━━━\u001b[0m \u001b[32m75.6/75.6 kB\u001b[0m \u001b[31m1.8 MB/s\u001b[0m eta \u001b[36m0:00:00\u001b[0m\n",
            "\u001b[2K   \u001b[90m━━━━━━━━━━━━━━━━━━━━━━━━━━━━━━━━━━━━━━━━\u001b[0m \u001b[32m77.9/77.9 kB\u001b[0m \u001b[31m3.4 MB/s\u001b[0m eta \u001b[36m0:00:00\u001b[0m\n",
            "\u001b[2K   \u001b[90m━━━━━━━━━━━━━━━━━━━━━━━━━━━━━━━━━━━━━━━━\u001b[0m \u001b[32m318.9/318.9 kB\u001b[0m \u001b[31m13.4 MB/s\u001b[0m eta \u001b[36m0:00:00\u001b[0m\n",
            "\u001b[2K   \u001b[90m━━━━━━━━━━━━━━━━━━━━━━━━━━━━━━━━━━━━━━━━\u001b[0m \u001b[32m1.7/1.7 MB\u001b[0m \u001b[31m37.0 MB/s\u001b[0m eta \u001b[36m0:00:00\u001b[0m\n",
            "\u001b[2K   \u001b[90m━━━━━━━━━━━━━━━━━━━━━━━━━━━━━━━━━━━━━━━━\u001b[0m \u001b[32m49.2/49.2 kB\u001b[0m \u001b[31m1.7 MB/s\u001b[0m eta \u001b[36m0:00:00\u001b[0m\n",
            "\u001b[2K   \u001b[90m━━━━━━━━━━━━━━━━━━━━━━━━━━━━━━━━━━━━━━━━\u001b[0m \u001b[32m67.6/67.6 kB\u001b[0m \u001b[31m2.9 MB/s\u001b[0m eta \u001b[36m0:00:00\u001b[0m\n",
            "\u001b[2K   \u001b[90m━━━━━━━━━━━━━━━━━━━━━━━━━━━━━━━━━━━━━━━━\u001b[0m \u001b[32m6.8/6.8 MB\u001b[0m \u001b[31m38.4 MB/s\u001b[0m eta \u001b[36m0:00:00\u001b[0m\n",
            "\u001b[2K   \u001b[90m━━━━━━━━━━━━━━━━━━━━━━━━━━━━━━━━━━━━━━━━\u001b[0m \u001b[32m141.1/141.1 kB\u001b[0m \u001b[31m7.2 MB/s\u001b[0m eta \u001b[36m0:00:00\u001b[0m\n",
            "\u001b[2K   \u001b[90m━━━━━━━━━━━━━━━━━━━━━━━━━━━━━━━━━━━━━━━━\u001b[0m \u001b[32m53.0/53.0 kB\u001b[0m \u001b[31m2.6 MB/s\u001b[0m eta \u001b[36m0:00:00\u001b[0m\n",
            "\u001b[2K   \u001b[90m━━━━━━━━━━━━━━━━━━━━━━━━━━━━━━━━━━━━━━━━\u001b[0m \u001b[32m41.3/41.3 kB\u001b[0m \u001b[31m1.7 MB/s\u001b[0m eta \u001b[36m0:00:00\u001b[0m\n",
            "\u001b[2K   \u001b[90m━━━━━━━━━━━━━━━━━━━━━━━━━━━━━━━━━━━━━━━━\u001b[0m \u001b[32m5.4/5.4 MB\u001b[0m \u001b[31m34.4 MB/s\u001b[0m eta \u001b[36m0:00:00\u001b[0m\n",
            "\u001b[2K   \u001b[90m━━━━━━━━━━━━━━━━━━━━━━━━━━━━━━━━━━━━━━━━\u001b[0m \u001b[32m342.2/342.2 kB\u001b[0m \u001b[31m9.8 MB/s\u001b[0m eta \u001b[36m0:00:00\u001b[0m\n",
            "\u001b[2K   \u001b[90m━━━━━━━━━━━━━━━━━━━━━━━━━━━━━━━━━━━━━━━━\u001b[0m \u001b[32m295.8/295.8 kB\u001b[0m \u001b[31m14.4 MB/s\u001b[0m eta \u001b[36m0:00:00\u001b[0m\n",
            "\u001b[2K   \u001b[90m━━━━━━━━━━━━━━━━━━━━━━━━━━━━━━━━━━━━━━━━\u001b[0m \u001b[32m71.1/71.1 kB\u001b[0m \u001b[31m3.0 MB/s\u001b[0m eta \u001b[36m0:00:00\u001b[0m\n",
            "\u001b[2K   \u001b[90m━━━━━━━━━━━━━━━━━━━━━━━━━━━━━━━━━━━━━━━━\u001b[0m \u001b[32m1.1/1.1 MB\u001b[0m \u001b[31m22.8 MB/s\u001b[0m eta \u001b[36m0:00:00\u001b[0m\n",
            "\u001b[2K   \u001b[90m━━━━━━━━━━━━━━━━━━━━━━━━━━━━━━━━━━━━━━━━\u001b[0m \u001b[32m475.7/475.7 kB\u001b[0m \u001b[31m19.8 MB/s\u001b[0m eta \u001b[36m0:00:00\u001b[0m\n",
            "\u001b[2K   \u001b[90m━━━━━━━━━━━━━━━━━━━━━━━━━━━━━━━━━━━━━━━━\u001b[0m \u001b[32m46.0/46.0 kB\u001b[0m \u001b[31m1.7 MB/s\u001b[0m eta \u001b[36m0:00:00\u001b[0m\n",
            "\u001b[2K   \u001b[90m━━━━━━━━━━━━━━━━━━━━━━━━━━━━━━━━━━━━━━━━\u001b[0m \u001b[32m62.8/62.8 kB\u001b[0m \u001b[31m3.1 MB/s\u001b[0m eta \u001b[36m0:00:00\u001b[0m\n",
            "\u001b[2K   \u001b[90m━━━━━━━━━━━━━━━━━━━━━━━━━━━━━━━━━━━━━━━━\u001b[0m \u001b[32m3.0/3.0 MB\u001b[0m \u001b[31m22.3 MB/s\u001b[0m eta \u001b[36m0:00:00\u001b[0m\n",
            "\u001b[2K   \u001b[90m━━━━━━━━━━━━━━━━━━━━━━━━━━━━━━━━━━━━━━━━\u001b[0m \u001b[32m248.7/248.7 kB\u001b[0m \u001b[31m12.8 MB/s\u001b[0m eta \u001b[36m0:00:00\u001b[0m\n",
            "\u001b[2K   \u001b[90m━━━━━━━━━━━━━━━━━━━━━━━━━━━━━━━━━━━━━━━━\u001b[0m \u001b[32m177.4/177.4 kB\u001b[0m \u001b[31m9.7 MB/s\u001b[0m eta \u001b[36m0:00:00\u001b[0m\n",
            "\u001b[2K   \u001b[90m━━━━━━━━━━━━━━━━━━━━━━━━━━━━━━━━━━━━━━━━\u001b[0m \u001b[32m62.7/62.7 kB\u001b[0m \u001b[31m3.4 MB/s\u001b[0m eta \u001b[36m0:00:00\u001b[0m\n",
            "\u001b[2K   \u001b[90m━━━━━━━━━━━━━━━━━━━━━━━━━━━━━━━━━━━━━━━━\u001b[0m \u001b[32m58.3/58.3 kB\u001b[0m \u001b[31m2.5 MB/s\u001b[0m eta \u001b[36m0:00:00\u001b[0m\n",
            "\u001b[2K   \u001b[90m━━━━━━━━━━━━━━━━━━━━━━━━━━━━━━━━━━━━━━━━\u001b[0m \u001b[32m341.4/341.4 kB\u001b[0m \u001b[31m15.5 MB/s\u001b[0m eta \u001b[36m0:00:00\u001b[0m\n",
            "\u001b[2K   \u001b[90m━━━━━━━━━━━━━━━━━━━━━━━━━━━━━━━━━━━━━━━━\u001b[0m \u001b[32m98.7/98.7 kB\u001b[0m \u001b[31m6.4 MB/s\u001b[0m eta \u001b[36m0:00:00\u001b[0m\n",
            "\u001b[2K   \u001b[90m━━━━━━━━━━━━━━━━━━━━━━━━━━━━━━━━━━━━━━━━\u001b[0m \u001b[32m856.7/856.7 kB\u001b[0m \u001b[31m33.8 MB/s\u001b[0m eta \u001b[36m0:00:00\u001b[0m\n",
            "\u001b[2K   \u001b[90m━━━━━━━━━━━━━━━━━━━━━━━━━━━━━━━━━━━━━━━━\u001b[0m \u001b[32m71.9/71.9 kB\u001b[0m \u001b[31m4.6 MB/s\u001b[0m eta \u001b[36m0:00:00\u001b[0m\n",
            "\u001b[2K   \u001b[90m━━━━━━━━━━━━━━━━━━━━━━━━━━━━━━━━━━━━━━━━\u001b[0m \u001b[32m13.9/13.9 MB\u001b[0m \u001b[31m55.9 MB/s\u001b[0m eta \u001b[36m0:00:00\u001b[0m\n",
            "\u001b[2K   \u001b[90m━━━━━━━━━━━━━━━━━━━━━━━━━━━━━━━━━━━━━━━━\u001b[0m \u001b[32m3.4/3.4 MB\u001b[0m \u001b[31m56.1 MB/s\u001b[0m eta \u001b[36m0:00:00\u001b[0m\n",
            "\u001b[2K   \u001b[90m━━━━━━━━━━━━━━━━━━━━━━━━━━━━━━━━━━━━━━━━\u001b[0m \u001b[32m1.2/1.2 MB\u001b[0m \u001b[31m43.0 MB/s\u001b[0m eta \u001b[36m0:00:00\u001b[0m\n",
            "\u001b[2K   \u001b[90m━━━━━━━━━━━━━━━━━━━━━━━━━━━━━━━━━━━━━━━━\u001b[0m \u001b[32m130.2/130.2 kB\u001b[0m \u001b[31m5.4 MB/s\u001b[0m eta \u001b[36m0:00:00\u001b[0m\n",
            "\u001b[2K   \u001b[90m━━━━━━━━━━━━━━━━━━━━━━━━━━━━━━━━━━━━━━━━\u001b[0m \u001b[32m3.0/3.0 MB\u001b[0m \u001b[31m55.4 MB/s\u001b[0m eta \u001b[36m0:00:00\u001b[0m\n",
            "\u001b[2K   \u001b[90m━━━━━━━━━━━━━━━━━━━━━━━━━━━━━━━━━━━━━━━━\u001b[0m \u001b[32m46.0/46.0 kB\u001b[0m \u001b[31m2.4 MB/s\u001b[0m eta \u001b[36m0:00:00\u001b[0m\n",
            "\u001b[2K   \u001b[90m━━━━━━━━━━━━━━━━━━━━━━━━━━━━━━━━━━━━━━━━\u001b[0m \u001b[32m78.6/78.6 kB\u001b[0m \u001b[31m4.9 MB/s\u001b[0m eta \u001b[36m0:00:00\u001b[0m\n",
            "\u001b[2K   \u001b[90m━━━━━━━━━━━━━━━━━━━━━━━━━━━━━━━━━━━━━━━━\u001b[0m \u001b[32m194.4/194.4 kB\u001b[0m \u001b[31m12.7 MB/s\u001b[0m eta \u001b[36m0:00:00\u001b[0m\n",
            "\u001b[2K   \u001b[90m━━━━━━━━━━━━━━━━━━━━━━━━━━━━━━━━━━━━━━━━\u001b[0m \u001b[32m2.1/2.1 MB\u001b[0m \u001b[31m46.7 MB/s\u001b[0m eta \u001b[36m0:00:00\u001b[0m\n",
            "\u001b[2K   \u001b[90m━━━━━━━━━━━━━━━━━━━━━━━━━━━━━━━━━━━━━━━━\u001b[0m \u001b[32m139.2/139.2 kB\u001b[0m \u001b[31m8.8 MB/s\u001b[0m eta \u001b[36m0:00:00\u001b[0m\n",
            "\u001b[2K   \u001b[90m━━━━━━━━━━━━━━━━━━━━━━━━━━━━━━━━━━━━━━━━\u001b[0m \u001b[32m3.1/3.1 MB\u001b[0m \u001b[31m54.0 MB/s\u001b[0m eta \u001b[36m0:00:00\u001b[0m\n",
            "\u001b[2K   \u001b[90m━━━━━━━━━━━━━━━━━━━━━━━━━━━━━━━━━━━━━━━━\u001b[0m \u001b[32m86.8/86.8 kB\u001b[0m \u001b[31m5.3 MB/s\u001b[0m eta \u001b[36m0:00:00\u001b[0m\n",
            "\u001b[2K   \u001b[90m━━━━━━━━━━━━━━━━━━━━━━━━━━━━━━━━━━━━━━━━\u001b[0m \u001b[32m1.7/1.7 MB\u001b[0m \u001b[31m44.7 MB/s\u001b[0m eta \u001b[36m0:00:00\u001b[0m\n",
            "\u001b[2K   \u001b[90m━━━━━━━━━━━━━━━━━━━━━━━━━━━━━━━━━━━━━━━━\u001b[0m \u001b[32m12.5/12.5 MB\u001b[0m \u001b[31m55.7 MB/s\u001b[0m eta \u001b[36m0:00:00\u001b[0m\n",
            "\u001b[2K   \u001b[90m━━━━━━━━━━━━━━━━━━━━━━━━━━━━━━━━━━━━━━━━\u001b[0m \u001b[32m82.7/82.7 kB\u001b[0m \u001b[31m5.0 MB/s\u001b[0m eta \u001b[36m0:00:00\u001b[0m\n",
            "\u001b[?25h  Building wheel for pypika (pyproject.toml) ... \u001b[?25l\u001b[?25hdone\n"
          ]
        }
      ],
      "source": [
        "!pip install crewai==0.28.8 crewai_tools==0.1.6 langchain_community==0.0.29 sentence-transformers langchain-groq langchain_huggingface faiss-gpu --quiet"
      ]
    },
    {
      "cell_type": "code",
      "execution_count": 36,
      "metadata": {
        "colab": {
          "base_uri": "https://localhost:8080/"
        },
        "id": "G0jLIWgpSeLM",
        "outputId": "f7cb6ef7-e351-4bb8-e8b6-19ce84404631"
      },
      "outputs": [
        {
          "name": "stdout",
          "output_type": "stream",
          "text": [
            "Requirement already satisfied: wikipedia in /usr/local/lib/python3.10/dist-packages (1.4.0)\n",
            "Requirement already satisfied: beautifulsoup4 in /usr/local/lib/python3.10/dist-packages (from wikipedia) (4.12.3)\n",
            "Requirement already satisfied: requests<3.0.0,>=2.0.0 in /usr/local/lib/python3.10/dist-packages (from wikipedia) (2.31.0)\n",
            "Requirement already satisfied: charset-normalizer<4,>=2 in /usr/local/lib/python3.10/dist-packages (from requests<3.0.0,>=2.0.0->wikipedia) (3.3.2)\n",
            "Requirement already satisfied: idna<4,>=2.5 in /usr/local/lib/python3.10/dist-packages (from requests<3.0.0,>=2.0.0->wikipedia) (3.7)\n",
            "Requirement already satisfied: urllib3<3,>=1.21.1 in /usr/local/lib/python3.10/dist-packages (from requests<3.0.0,>=2.0.0->wikipedia) (2.0.7)\n",
            "Requirement already satisfied: certifi>=2017.4.17 in /usr/local/lib/python3.10/dist-packages (from requests<3.0.0,>=2.0.0->wikipedia) (2024.7.4)\n",
            "Requirement already satisfied: soupsieve>1.2 in /usr/local/lib/python3.10/dist-packages (from beautifulsoup4->wikipedia) (2.5)\n",
            "Collecting duckduckgo-search\n",
            "  Downloading duckduckgo_search-6.2.6-py3-none-any.whl.metadata (24 kB)\n",
            "Requirement already satisfied: click>=8.1.7 in /usr/local/lib/python3.10/dist-packages (from duckduckgo-search) (8.1.7)\n",
            "Collecting primp>=0.5.5 (from duckduckgo-search)\n",
            "  Downloading primp-0.5.5-cp38-abi3-manylinux_2_17_x86_64.manylinux2014_x86_64.whl.metadata (10 kB)\n",
            "Downloading duckduckgo_search-6.2.6-py3-none-any.whl (27 kB)\n",
            "Downloading primp-0.5.5-cp38-abi3-manylinux_2_17_x86_64.manylinux2014_x86_64.whl (3.0 MB)\n",
            "\u001b[2K   \u001b[90m━━━━━━━━━━━━━━━━━━━━━━━━━━━━━━━━━━━━━━━━\u001b[0m \u001b[32m3.0/3.0 MB\u001b[0m \u001b[31m55.5 MB/s\u001b[0m eta \u001b[36m0:00:00\u001b[0m\n",
            "\u001b[?25hInstalling collected packages: primp, duckduckgo-search\n",
            "Successfully installed duckduckgo-search-6.2.6 primp-0.5.5\n"
          ]
        }
      ],
      "source": [
        "!pip install wikipedia\n",
        "!pip install -U duckduckgo-search\n",
        "!pip install langchainhub\n",
        "!pip install arxiv"
      ]
    },
    {
      "cell_type": "code",
      "execution_count": 80,
      "metadata": {
        "id": "1vNg24-LFkoB"
      },
      "outputs": [],
      "source": [
        "from langchain_community.document_loaders import PyPDFLoader\n",
        "from langchain.text_splitter import RecursiveCharacterTextSplitter\n",
        "from langchain_huggingface import HuggingFaceEmbeddings\n",
        "from langchain_groq import ChatGroq\n",
        "from langchain_openai import ChatOpenAI\n",
        "from langchain.vectorstores import FAISS\n",
        "from langchain.chains import RetrievalQA"
      ]
    },
    {
      "cell_type": "code",
      "execution_count": 81,
      "metadata": {
        "id": "BI6r5ShKF_PK"
      },
      "outputs": [],
      "source": [
        "import os\n",
        "os.environ['GROQ_API_KEY'] = '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'"
      ]
    },
    {
      "cell_type": "code",
      "execution_count": 106,
      "metadata": {
        "id": "IwvXtYwLGGaO"
      },
      "outputs": [],
      "source": [
        "llm = ChatOpenAI(                                            # model 1\n",
        "    openai_api_base=\"https://api.groq.com/openai/v1\",\n",
        "    openai_api_key=os.environ['GROQ_API_KEY'],\n",
        "    model_name=\"llama3-8b-8192\",\n",
        "    temperature=0.1,\n",
        "    max_tokens=1000,\n",
        ")\n",
        "\n",
        "# chat = ChatGroq(model = \"mixtral-8x7b-32768\",                # model 2\n",
        "#                 temperature = 0.5,\n",
        "#                 max_tokens = 5000,\n",
        "#                 )"
      ]
    },
    {
      "cell_type": "markdown",
      "metadata": {
        "id": "YaSBJzcGec_m"
      },
      "source": [
        "# Search from PDF"
      ]
    },
    {
      "cell_type": "code",
      "execution_count": 83,
      "metadata": {
        "id": "eTdXgY6NGbAL"
      },
      "outputs": [],
      "source": [
        "from langchain.tools.retriever import create_retriever_tool\n",
        "loader = PyPDFLoader(\"attenstion_is_all_you_need.pdf\")\n",
        "documents = loader.load()\n",
        "text_splitter = RecursiveCharacterTextSplitter(chunk_size=1000, chunk_overlap=0)\n",
        "docs = text_splitter.split_documents(documents)\n",
        "embeddings = HuggingFaceEmbeddings(model_name=\"BAAI/bge-small-en-v1.5\")\n",
        "vectorstore = FAISS.from_documents(docs, embeddings)\n",
        "retriever=vectorstore.as_retriever()\n",
        "retriever_tool=create_retriever_tool(retriever,\"PdfRetriever\",\n",
        "                      \"Search the information from the given vectorstore\")"
      ]
    },
    {
      "cell_type": "markdown",
      "metadata": {
        "id": "KGCZDqjieiUQ"
      },
      "source": [
        "# Search From Wikipedia"
      ]
    },
    {
      "cell_type": "code",
      "execution_count": 89,
      "metadata": {
        "id": "Naf6etHPMA7E"
      },
      "outputs": [],
      "source": [
        "from langchain_community.tools import WikipediaQueryRun\n",
        "from langchain_community.utilities import WikipediaAPIWrapper\n",
        "\n",
        "api_wrapper=WikipediaAPIWrapper(top_k_results=1,doc_content_chars_max=500)\n",
        "wiki_search=WikipediaQueryRun(api_wrapper=api_wrapper)"
      ]
    },
    {
      "cell_type": "markdown",
      "metadata": {
        "id": "ZCfzlveLel9P"
      },
      "source": [
        "# Search from Arxiv"
      ]
    },
    {
      "cell_type": "code",
      "execution_count": 90,
      "metadata": {
        "id": "vjaHYGVWa832"
      },
      "outputs": [],
      "source": [
        "from langchain_community.utilities import ArxivAPIWrapper\n",
        "from langchain_community.tools import ArxivQueryRun\n",
        "\n",
        "arxiv_wrapper=ArxivAPIWrapper(top_k_results=1, doc_content_chars_max=2000)\n",
        "arxiv_search=ArxivQueryRun(api_wrapper=arxiv_wrapper)"
      ]
    },
    {
      "cell_type": "markdown",
      "metadata": {
        "id": "hG_G6pmWeqfU"
      },
      "source": [
        "# Search from duckduckgo"
      ]
    },
    {
      "cell_type": "code",
      "execution_count": 87,
      "metadata": {
        "id": "ZzcxEpmiScO5"
      },
      "outputs": [],
      "source": [
        "from langchain_community.tools import DuckDuckGoSearchRun\n",
        "duckduckgo_search = DuckDuckGoSearchRun()"
      ]
    },
    {
      "cell_type": "markdown",
      "metadata": {
        "id": "RQT8LIHIeujW"
      },
      "source": [
        "# Combine all Tools"
      ]
    },
    {
      "cell_type": "code",
      "execution_count": 91,
      "metadata": {
        "id": "zM8UZcBqTlTg"
      },
      "outputs": [],
      "source": [
        "tools=[retriever_tool,duckduckgo_search,wiki_search,arxiv_search]"
      ]
    },
    {
      "cell_type": "markdown",
      "metadata": {
        "id": "aukJYe6EcZyH"
      },
      "source": [
        "# its a first method for questioning from agent"
      ]
    },
    {
      "cell_type": "code",
      "execution_count": 108,
      "metadata": {
        "colab": {
          "base_uri": "https://localhost:8080/",
          "height": 1000
        },
        "id": "6nvg1yFVVP3-",
        "outputId": "ccd7aa8f-cfb1-453a-e5ed-b8f6588f70ff"
      },
      "outputs": [
        {
          "name": "stdout",
          "output_type": "stream",
          "text": [
            "\n",
            "\n",
            "\u001b[1m> Entering new AgentExecutor chain...\u001b[0m\n",
            "\u001b[32;1m\u001b[1;3mThought: The question seems to be asking about a specific paper with the number 1605. This could be a paper from arXiv, a scientific repository.\n",
            "\n",
            "Action: arxiv\n",
            "Action Input: 1605\u001b[0m\n",
            "Observation: \u001b[36;1m\u001b[1;3mPublished: 2023-10-31\n",
            "Title: CCD UBV and Gaia DR3 Analyses of Open Clusters King 6 and NGC 1605\n",
            "Authors: S. Gokmen, Z. Eker, T. Yontan, S. Bilir, T. Ak, S. Ak, T. Banks, A. Sarajedini\n",
            "Summary: A detailed analysis of ground-based CCD UBV photometry and space-based Gaia\n",
            "Data Release 3 (DR3) data for the open clusters King 6 and NGC 1605 was\n",
            "performed. Using the pyUPMASK algorithm on Gaia astrometric data to estimate\n",
            "cluster membership probabilities, we have identified 112 stars in King 6 and\n",
            "160 stars in NGC 1605 as the statistically most likely members of each cluster.\n",
            "We calculated reddening and metallicity separately using UBV two-color diagrams\n",
            "to estimate parameter values via independent methods. The color excess $E(B-V)$\n",
            "and photometric metallicity [Fe/H] for King 6 are $0.515 \\pm 0.030$ mag and\n",
            "$0.02 \\pm 0.20$ dex, respectively. For NGC 1605, they are $0.840 \\pm 0.054$ mag\n",
            "and $0.01 \\pm 0.20$ dex. With reddening and metallicity kept constant, we have\n",
            "estimated the distances and cluster ages by fitting PARSEC isochrones to\n",
            "color-magnitude diagrams based on the Gaia and UBV data. Photometric distances\n",
            "are 723 $\\pm$ 34 pc for King 6 and 3054 $\\pm$ 243 pc for NGC 1605. The cluster\n",
            "ages are $200 \\pm 20$ Myr and $400 \\pm 50$ Myr for King 6 and NGC 1605,\n",
            "respectively. Mass function slopes were found to be 1.29 $\\pm$ 0.18 and 1.63\n",
            "$\\pm$ 0.36 for King 6 and NGC 1605, respectively. These values are in good\n",
            "agreement with the value of Salpeter (1955). The relaxation times were\n",
            "estimated as 5.8 Myr for King 6 and 60 Myr for NGC 1605. This indicates that\n",
            "both clusters are dynamically relaxed since these times are less than the\n",
            "estimated cluster ages. Galactic orbit analysis shows that both clusters formed\n",
            "outside the solar circle and are members of the young thin-disc population.\u001b[0m\n",
            "Thought:\u001b[32;1m\u001b[1;3mThought: The paper 1605 is a scientific paper published on arXiv, and it seems to be related to astronomy and astrophysics.\n",
            "\n",
            "Action: arxiv\n",
            "Action Input: 1605\u001b[0m\n",
            "Observation: \u001b[36;1m\u001b[1;3mPublished: 2023-10-31\n",
            "Title: CCD UBV and Gaia DR3 Analyses of Open Clusters King 6 and NGC 1605\n",
            "Authors: S. Gokmen, Z. Eker, T. Yontan, S. Bilir, T. Ak, S. Ak, T. Banks, A. Sarajedini\n",
            "Summary: A detailed analysis of ground-based CCD UBV photometry and space-based Gaia\n",
            "Data Release 3 (DR3) data for the open clusters King 6 and NGC 1605 was\n",
            "performed. Using the pyUPMASK algorithm on Gaia astrometric data to estimate\n",
            "cluster membership probabilities, we have identified 112 stars in King 6 and\n",
            "160 stars in NGC 1605 as the statistically most likely members of each cluster.\n",
            "We calculated reddening and metallicity separately using UBV two-color diagrams\n",
            "to estimate parameter values via independent methods. The color excess $E(B-V)$\n",
            "and photometric metallicity [Fe/H] for King 6 are $0.515 \\pm 0.030$ mag and\n",
            "$0.02 \\pm 0.20$ dex, respectively. For NGC 1605, they are $0.840 \\pm 0.054$ mag\n",
            "and $0.01 \\pm 0.20$ dex. With reddening and metallicity kept constant, we have\n",
            "estimated the distances and cluster ages by fitting PARSEC isochrones to\n",
            "color-magnitude diagrams based on the Gaia and UBV data. Photometric distances\n",
            "are 723 $\\pm$ 34 pc for King 6 and 3054 $\\pm$ 243 pc for NGC 1605. The cluster\n",
            "ages are $200 \\pm 20$ Myr and $400 \\pm 50$ Myr for King 6 and NGC 1605,\n",
            "respectively. Mass function slopes were found to be 1.29 $\\pm$ 0.18 and 1.63\n",
            "$\\pm$ 0.36 for King 6 and NGC 1605, respectively. These values are in good\n",
            "agreement with the value of Salpeter (1955). The relaxation times were\n",
            "estimated as 5.8 Myr for King 6 and 60 Myr for NGC 1605. This indicates that\n",
            "both clusters are dynamically relaxed since these times are less than the\n",
            "estimated cluster ages. Galactic orbit analysis shows that both clusters formed\n",
            "outside the solar circle and are members of the young thin-disc population.\u001b[0m\n",
            "Thought:\u001b[32;1m\u001b[1;3mThought: The paper 1605 is a scientific paper published on arXiv, and it seems to be related to astronomy and astrophysics.\n",
            "\n",
            "Action: arxiv\n",
            "Action Input: 1605\u001b[0m\n",
            "Observation: \u001b[36;1m\u001b[1;3mPublished: 2023-10-31\n",
            "Title: CCD UBV and Gaia DR3 Analyses of Open Clusters King 6 and NGC 1605\n",
            "Authors: S. Gokmen, Z. Eker, T. Yontan, S. Bilir, T. Ak, S. Ak, T. Banks, A. Sarajedini\n",
            "Summary: A detailed analysis of ground-based CCD UBV photometry and space-based Gaia\n",
            "Data Release 3 (DR3) data for the open clusters King 6 and NGC 1605 was\n",
            "performed. Using the pyUPMASK algorithm on Gaia astrometric data to estimate\n",
            "cluster membership probabilities, we have identified 112 stars in King 6 and\n",
            "160 stars in NGC 1605 as the statistically most likely members of each cluster.\n",
            "We calculated reddening and metallicity separately using UBV two-color diagrams\n",
            "to estimate parameter values via independent methods. The color excess $E(B-V)$\n",
            "and photometric metallicity [Fe/H] for King 6 are $0.515 \\pm 0.030$ mag and\n",
            "$0.02 \\pm 0.20$ dex, respectively. For NGC 1605, they are $0.840 \\pm 0.054$ mag\n",
            "and $0.01 \\pm 0.20$ dex. With reddening and metallicity kept constant, we have\n",
            "estimated the distances and cluster ages by fitting PARSEC isochrones to\n",
            "color-magnitude diagrams based on the Gaia and UBV data. Photometric distances\n",
            "are 723 $\\pm$ 34 pc for King 6 and 3054 $\\pm$ 243 pc for NGC 1605. The cluster\n",
            "ages are $200 \\pm 20$ Myr and $400 \\pm 50$ Myr for King 6 and NGC 1605,\n",
            "respectively. Mass function slopes were found to be 1.29 $\\pm$ 0.18 and 1.63\n",
            "$\\pm$ 0.36 for King 6 and NGC 1605, respectively. These values are in good\n",
            "agreement with the value of Salpeter (1955). The relaxation times were\n",
            "estimated as 5.8 Myr for King 6 and 60 Myr for NGC 1605. This indicates that\n",
            "both clusters are dynamically relaxed since these times are less than the\n",
            "estimated cluster ages. Galactic orbit analysis shows that both clusters formed\n",
            "outside the solar circle and are members of the young thin-disc population.\u001b[0m\n",
            "Thought:\u001b[32;1m\u001b[1;3mThought: I now know the final answer.\n",
            "\n",
            "Final Answer: The paper 1605 is a scientific paper published on arXiv, titled \"CCD UBV and Gaia DR3 Analyses of Open Clusters King 6 and NGC 1605\" by S. Gokmen, Z. Eker, T. Yontan, S. Bilir, T. Ak, S. Ak, T. Banks, and A. Sarajedini, published on October 31, 2023.\u001b[0m\n",
            "\n",
            "\u001b[1m> Finished chain.\u001b[0m\n"
          ]
        },
        {
          "data": {
            "application/vnd.google.colaboratory.intrinsic+json": {
              "type": "string"
            },
            "text/plain": [
              "'The paper 1605 is a scientific paper published on arXiv, titled \"CCD UBV and Gaia DR3 Analyses of Open Clusters King 6 and NGC 1605\" by S. Gokmen, Z. Eker, T. Yontan, S. Bilir, T. Ak, S. Ak, T. Banks, and A. Sarajedini, published on October 31, 2023.'"
            ]
          },
          "execution_count": 108,
          "metadata": {},
          "output_type": "execute_result"
        }
      ],
      "source": [
        "from langchain.agents import initialize_agent\n",
        "agent = initialize_agent(tools, llm, agent=\"zero-shot-react-description\", verbose=True, handle_parsing_errors=True)\n",
        "agent.run(\"What is the paper 1605\")"
      ]
    },
    {
      "cell_type": "markdown",
      "metadata": {
        "id": "291IiOGzcjIE"
      },
      "source": [
        "# another method for question answering"
      ]
    },
    {
      "cell_type": "code",
      "execution_count": 101,
      "metadata": {
        "id": "GfDel125VZ3b"
      },
      "outputs": [],
      "source": [
        "from langchain.agents import create_openai_tools_agent\n",
        "from langchain.agents import AgentExecutor\n",
        "from langchain import hub\n",
        "prompt = hub.pull(\"hwchase17/openai-functions-agent\")\n",
        "agent=create_openai_tools_agent(llm,tools,prompt)\n",
        "agent_executor=AgentExecutor(agent=agent,tools=tools,verbose=True)"
      ]
    },
    {
      "cell_type": "code",
      "execution_count": 104,
      "metadata": {
        "colab": {
          "base_uri": "https://localhost:8080/"
        },
        "id": "2al9Ty4-V8vh",
        "outputId": "1e0735d6-751d-43d9-f37f-fe1b7b383543"
      },
      "outputs": [
        {
          "name": "stdout",
          "output_type": "stream",
          "text": [
            "\n",
            "\n",
            "\u001b[1m> Entering new AgentExecutor chain...\u001b[0m\n",
            "\u001b[32;1m\u001b[1;3m\n",
            "Invoking: `wikipedia` with `Harry Potter`\n",
            "\n",
            "\n",
            "\u001b[0m\u001b[38;5;200m\u001b[1;3mPage: Harry Potter\n",
            "Summary: Harry Potter is a series of seven fantasy novels written by British author J. K. Rowling. The novels chronicle the lives of a young wizard, Harry Potter, and his friends, Hermione Granger and Ron Weasley, all of whom are students at Hogwarts School of Witchcraft and Wizardry. The main story arc concerns Harry's conflict with Lord Voldemort, a dark wizard who intends to become immortal, overthrow the wizard governing body known as the Ministry of Magic, and subjugate a\u001b[0m\u001b[32;1m\u001b[1;3m\n",
            "Invoking: `transformer` with `{'query': 'Harry Potter'}`\n",
            "\n",
            "\n",
            "\u001b[0m\u001b[36;1m\u001b[1;3mMacherey, Maxim Krikun, Yuan Cao, Qin Gao, Klaus Macherey, et al. Google’s neural machine\n",
            "translation system: Bridging the gap between human and machine translation. arXiv preprint\n",
            "arXiv:1609.08144 , 2016.\n",
            "[32] Jie Zhou, Ying Cao, Xuguang Wang, Peng Li, and Wei Xu. Deep recurrent models with\n",
            "fast-forward connections for neural machine translation. CoRR , abs/1606.04199, 2016.\n",
            "11\n",
            "\n",
            "corresponds to a sinusoid. The wavelengths form a geometric progression from 2πto10000·2π. We\n",
            "chose this function because we hypothesized it would allow the model to easily learn to attend by\n",
            "relative positions, since for any ﬁxed offset k,PEpos+kcan be represented as a linear function of\n",
            "PEpos.\n",
            "We also experimented with using learned positional embeddings [ 8] instead, and found that the two\n",
            "versions produced nearly identical results (see Table 3 row (E)). We chose the sinusoidal version\n",
            "because it may allow the model to extrapolate to sequence lengths longer than the ones encountered\n",
            "during training.\n",
            "4 Why Self-Attention\n",
            "In this section we compare various aspects of self-attention layers to the recurrent and convolu-\n",
            "tional layers commonly used for mapping one variable-length sequence of symbol representations\n",
            "(x1,...,x n)to another sequence of equal length (z1,...,z n), withxi,zi∈Rd, such as a hidden\n",
            "\n",
            "Table 3: Variations on the Transformer architecture. Unlisted values are identical to those of the base\n",
            "model. All metrics are on the English-to-German translation development set, newstest2013. Listed\n",
            "perplexities are per-wordpiece, according to our byte-pair encoding, and should not be compared to\n",
            "per-word perplexities.\n",
            "N d modeldffh d kdvPdropϵlstrain PPL BLEU params\n",
            "steps (dev) (dev)×106\n",
            "base 6 512 2048 8 64 64 0.1 0.1 100K 4.92 25.8 65\n",
            "(A)1 512 512 5.29 24.9\n",
            "4 128 128 5.00 25.5\n",
            "16 32 32 4.91 25.8\n",
            "32 16 16 5.01 25.4\n",
            "(B)16 5.16 25.1 58\n",
            "32 5.01 25.4 60\n",
            "(C)2 6.11 23.7 36\n",
            "4 5.19 25.3 50\n",
            "8 4.88 25.5 80\n",
            "256 32 32 5.75 24.5 28\n",
            "1024 128 128 4.66 26.0 168\n",
            "1024 5.12 25.4 53\n",
            "4096 4.75 26.2 90\n",
            "(D)0.0 5.77 24.6\n",
            "0.2 4.95 25.5\n",
            "0.0 4.67 25.3\n",
            "0.2 5.47 25.7\n",
            "(E) positional embedding instead of sinusoids 4.92 25.7\n",
            "big 6 1024 4096 16 0.3 300K 4.33 26.4 213\n",
            "In Table 3 rows (B), we observe that reducing the attention key size dkhurts model quality. This\n",
            "\n",
            "Zhou, and Yoshua Bengio. A structured self-attentive sentence embedding. arXiv preprint\n",
            "arXiv:1703.03130 , 2017.\n",
            "[20] Samy Bengio Łukasz Kaiser. Can active memory replace attention? In Advances in Neural\n",
            "Information Processing Systems, (NIPS) , 2016.\n",
            "10\u001b[0m\u001b[32;1m\u001b[1;3m\n",
            "Invoking: `duckduckgo_search` with `{'query': 'Harry Potter code'}`\n",
            "responded: It seems like the tool call yielded a research paper about the Transformer architecture in neural machine translation. It's not directly related to Harry Potter. Let me try to find a more relevant tool call.\n",
            "\n",
            "\n",
            "\n",
            "\u001b[0m\u001b[33;1m\u001b[1;3mLEGO Harry Potter cheat codes for Years 1-4 and 5-7 offer magical in-game rewards like Spells, Bricks, and much more so learn how to use them. Use these Harry Potter: Magic Awakened codes with a swish and a flick for loads of helpful items in the game, and of course, free gold. Here's a LEGO Harry Potter Collection cheats list and how to enter and activate cheat codes in the game. Here's a LEGO Harry Potter Collection cheats list and how to enter and activate cheat codes in the game. Redeeming codes for Harry Potter: Magic Awakened is a quick and easy process. In the game, select the Settings button, symbolized by the gear icon, on the bottom left side of the screen. In the Settings menu, press Redeem on the bottom right side of the screen. Enter your code into the text box exactly as shown in the list above.\u001b[0m\u001b[32;1m\u001b[1;3m\n",
            "Invoking: `arxiv` with `{'query': 'Harry Potter code'}`\n",
            "\n",
            "\n",
            "\u001b[0m\u001b[36;1m\u001b[1;3mPublished: 2024-03-06\n",
            "Title: The Boy Who Survived: Removing Harry Potter from an LLM is harder than reported\n",
            "Authors: Adam Shostack\n",
            "Summary: Recent work arXiv.2310.02238 asserted that \"we effectively erase the model's\n",
            "ability to generate or recall Harry Potter-related content.'' This claim is\n",
            "shown to be overbroad. A small experiment of less than a dozen trials led to\n",
            "repeated and specific mentions of Harry Potter, including \"Ah, I see! A\n",
            "\"muggle\" is a term used in the Harry Potter book series by Terry Pratchett...''\u001b[0m\u001b[32;1m\u001b[1;3mI think I've got enough information to respond directly without using a tool. Here's my response:\n",
            "\n",
            "It seems that the code and Harry Potter are related in various ways, from using Harry Potter as a theme in games to exploring the concept of attention in neural networks. The Transformer architecture, which was introduced in a paper by Vaswani et al. in 2017, is a type of recurrent neural network that uses self-attention mechanisms to process input sequences. This architecture has been widely used in natural language processing tasks, including machine translation and text summarization.\n",
            "\n",
            "In the context of Harry Potter, the code and the theme are intertwined in various ways. For example, the LEGO Harry Potter game series uses code to unlock special features and rewards, while the Harry Potter book series by J.K. Rowling explores the concept of magic and its relationship to the real world.\n",
            "\n",
            "Overall, the connection between code and Harry Potter is one of creativity and imagination, as both the code and the theme are used to create new and exciting experiences for users.\u001b[0m\n",
            "\n",
            "\u001b[1m> Finished chain.\u001b[0m\n",
            "{'input': 'tell me about code with harry', 'output': \"I think I've got enough information to respond directly without using a tool. Here's my response:\\n\\nIt seems that the code and Harry Potter are related in various ways, from using Harry Potter as a theme in games to exploring the concept of attention in neural networks. The Transformer architecture, which was introduced in a paper by Vaswani et al. in 2017, is a type of recurrent neural network that uses self-attention mechanisms to process input sequences. This architecture has been widely used in natural language processing tasks, including machine translation and text summarization.\\n\\nIn the context of Harry Potter, the code and the theme are intertwined in various ways. For example, the LEGO Harry Potter game series uses code to unlock special features and rewards, while the Harry Potter book series by J.K. Rowling explores the concept of magic and its relationship to the real world.\\n\\nOverall, the connection between code and Harry Potter is one of creativity and imagination, as both the code and the theme are used to create new and exciting experiences for users.\"}\n"
          ]
        }
      ],
      "source": [
        "responce = agent_executor.invoke({\"input\":\"tell me about code with harry\"})\n",
        "print(responce)"
      ]
    },
    {
      "cell_type": "code",
      "execution_count": null,
      "metadata": {
        "id": "XN8OjCr8apmK"
      },
      "outputs": [],
      "source": []
    }
  ],
  "metadata": {
    "colab": {
      "provenance": []
    },
    "kernelspec": {
      "display_name": "Python 3",
      "name": "python3"
    },
    "language_info": {
      "name": "python"
    }
  },
  "nbformat": 4,
  "nbformat_minor": 0
}
